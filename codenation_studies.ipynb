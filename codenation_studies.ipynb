{
 "cells": [
  {
   "cell_type": "code",
   "execution_count": 2,
   "metadata": {},
   "outputs": [],
   "source": [
    "import pandas as pd\n",
    "import numpy as np\n",
    "#import warnings\n",
    "#warnings.filterwarnings('ignore')\n",
    "from sklearn import preprocessing\n",
    "from sklearn.model_selection import KFold\n",
    "from sklearn.linear_model import LinearRegression"
   ]
  },
  {
   "cell_type": "code",
   "execution_count": 3,
   "metadata": {},
   "outputs": [],
   "source": [
    "#carregar dataframes\n",
    "df_test = pd.read_csv('C:/Users/bodel/Documents/coding/codenation_data_science/test.csv')\n",
    "df_train = pd.read_csv('C:/Users/bodel/Documents/coding/codenation_data_science/train.csv')\n",
    "#remover coluna com indices ~estranhos\n",
    "df_train.drop(df_train.columns[0], axis=1, inplace=True)"
   ]
  },
  {
   "cell_type": "code",
   "execution_count": 4,
   "metadata": {},
   "outputs": [],
   "source": [
    "#remover linhas de candidatos que não compareceram a/foram eliminados de alguma das provas\n",
    "#DATASET TREINO\n",
    "df_train.drop(df_train[df_train.TP_PRESENCA_CN!=1].index, inplace=True)\n",
    "df_train.drop(df_train[df_train.TP_PRESENCA_CH!=1].index, inplace=True)\n",
    "df_train.drop(df_train[df_train.TP_PRESENCA_LC!=1].index, inplace=True)\n",
    "df_train.drop(df_train[df_train.TP_PRESENCA_MT!=1].index, inplace=True)\n",
    "#remover linhas de pessoas com redações problemáticas\n",
    "df_train.drop(df_train[df_train.TP_STATUS_REDACAO!=1].index, inplace=True)"
   ]
  },
  {
   "cell_type": "code",
   "execution_count": 5,
   "metadata": {},
   "outputs": [],
   "source": [
    "#inserir coluna a ser predita no dataset de teste pra não apagar os dados na de treino \n",
    "df_test.insert(2,\"NU_NOTA_MT\", 0)\n",
    "train_idx = df_train.columns\n",
    "test_idx = df_test.columns\n",
    "#apagar as colunas que estão no dataset de treino e não no de teste \n",
    "df_train.drop(train_idx.difference(test_idx,sort=False), axis=1,inplace=True)\n",
    "#ajustar os índices\n",
    "df_train.reset_index(drop=True, inplace=True)"
   ]
  },
  {
   "cell_type": "code",
   "execution_count": 6,
   "metadata": {},
   "outputs": [],
   "source": [
    "#remover algumas colunas não úteis:\n",
    "#SG_UF_RESIDENCIA é redundante com CO_UF_RESIDENCIA\n",
    "#TP_PRESENCA(..) foi usado para filtrar linhas por presença/eliminação, não será mais útil\n",
    "df_train.drop(['SG_UF_RESIDENCIA','TP_PRESENCA_CN','TP_PRESENCA_CH','TP_PRESENCA_LC', 'TP_STATUS_REDACAO'], axis=1,inplace=True)\n",
    "df_test.drop(['SG_UF_RESIDENCIA','TP_PRESENCA_CN','TP_PRESENCA_CH','TP_PRESENCA_LC','TP_STATUS_REDACAO'], axis=1,inplace=True)\n",
    "#remover colunas referentes a cor da prova/língua estrangeira - zero relevância já que não tem sequencia do gabarito no dataset de teste\n",
    "df_train.drop(['CO_PROVA_CN', 'CO_PROVA_CH', 'CO_PROVA_LC', 'CO_PROVA_MT', 'TP_LINGUA'], axis=1,inplace=True)\n",
    "df_test.drop(['CO_PROVA_CN', 'CO_PROVA_CH', 'CO_PROVA_LC', 'CO_PROVA_MT', 'TP_LINGUA'], axis=1,inplace=True)\n",
    "#remover colunas de atendimento especializado por motivo não cognitivo\n",
    "df_train.drop(['IN_IDOSO', 'IN_GESTANTE', 'IN_SABATISTA'], axis=1,inplace=True)\n",
    "df_test.drop(['IN_IDOSO', 'IN_GESTANTE', 'IN_SABATISTA'], axis=1,inplace=True)"
   ]
  },
  {
   "cell_type": "code",
   "execution_count": 7,
   "metadata": {},
   "outputs": [
    {
     "output_type": "execute_result",
     "data": {
      "text/plain": "       CO_UF_RESIDENCIA     NU_IDADE  TP_COR_RACA  TP_NACIONALIDADE  \\\ncount       9860.000000  9860.000000  9860.000000       9860.000000   \nmean          30.560953    20.525862     2.168966          1.045233   \nstd            9.809404     6.279768     1.005135          0.255545   \nmin           11.000000    13.000000     0.000000          0.000000   \n25%           23.000000    17.000000     1.000000          1.000000   \n50%           31.000000    18.000000     3.000000          1.000000   \n75%           35.000000    21.000000     3.000000          1.000000   \nmax           53.000000    66.000000     5.000000          4.000000   \n\n       TP_ST_CONCLUSAO  TP_ANO_CONCLUIU    TP_ESCOLA    TP_ENSINO  \\\ncount      9860.000000       9860.00000  9860.000000  3551.000000   \nmean          1.803753          1.73428     1.415213     1.129823   \nstd           0.826902          2.88892     0.594129     0.486190   \nmin           1.000000          0.00000     1.000000     1.000000   \n25%           1.000000          0.00000     1.000000     1.000000   \n50%           2.000000          0.00000     1.000000     1.000000   \n75%           2.000000          2.00000     2.000000     1.000000   \nmax           4.000000         10.00000     4.000000     3.000000   \n\n       IN_TREINEIRO  TP_DEPENDENCIA_ADM_ESC  ...   NU_NOTA_CN   NU_NOTA_CH  \\\ncount   9860.000000             3551.000000  ...  9860.000000  9860.000000   \nmean       0.147870                2.294847  ...   474.894310   531.788732   \nstd        0.354989                0.739679  ...    71.006222    72.953387   \nmin        0.000000                1.000000  ...     0.000000     0.000000   \n25%        0.000000                2.000000  ...   420.900000   482.700000   \n50%        0.000000                2.000000  ...   461.300000   533.700000   \n75%        0.000000                2.000000  ...   516.400000   583.200000   \nmax        1.000000                4.000000  ...   806.400000   807.000000   \n\n        NU_NOTA_LC   NU_NOTA_MT  NU_NOTA_COMP1  NU_NOTA_COMP2  NU_NOTA_COMP3  \\\ncount  9860.000000  9860.000000    9860.000000    9860.000000    9860.000000   \nmean    518.008611   483.634503     122.761866     114.690061     109.475659   \nstd      67.931015    99.783008      23.532664      29.198828      30.381720   \nmin       0.000000     0.000000       0.000000      40.000000       0.000000   \n25%     470.975000   409.600000     120.000000     100.000000      80.000000   \n50%     522.400000   462.100000     120.000000     120.000000     120.000000   \n75%     565.800000   539.125000     140.000000     120.000000     120.000000   \nmax     763.600000   952.000000     200.000000     200.000000     200.000000   \n\n       NU_NOTA_COMP4  NU_NOTA_COMP5  NU_NOTA_REDACAO  \ncount    9860.000000    9860.000000      9860.000000  \nmean      115.931542      79.319980       542.179108  \nstd        28.770965      41.842657       131.856441  \nmin         0.000000       0.000000        40.000000  \n25%       100.000000      40.000000       460.000000  \n50%       120.000000      80.000000       540.000000  \n75%       120.000000     120.000000       600.000000  \nmax       200.000000     200.000000      1000.000000  \n\n[8 rows x 25 columns]",
      "text/html": "<div>\n<style scoped>\n    .dataframe tbody tr th:only-of-type {\n        vertical-align: middle;\n    }\n\n    .dataframe tbody tr th {\n        vertical-align: top;\n    }\n\n    .dataframe thead th {\n        text-align: right;\n    }\n</style>\n<table border=\"1\" class=\"dataframe\">\n  <thead>\n    <tr style=\"text-align: right;\">\n      <th></th>\n      <th>CO_UF_RESIDENCIA</th>\n      <th>NU_IDADE</th>\n      <th>TP_COR_RACA</th>\n      <th>TP_NACIONALIDADE</th>\n      <th>TP_ST_CONCLUSAO</th>\n      <th>TP_ANO_CONCLUIU</th>\n      <th>TP_ESCOLA</th>\n      <th>TP_ENSINO</th>\n      <th>IN_TREINEIRO</th>\n      <th>TP_DEPENDENCIA_ADM_ESC</th>\n      <th>...</th>\n      <th>NU_NOTA_CN</th>\n      <th>NU_NOTA_CH</th>\n      <th>NU_NOTA_LC</th>\n      <th>NU_NOTA_MT</th>\n      <th>NU_NOTA_COMP1</th>\n      <th>NU_NOTA_COMP2</th>\n      <th>NU_NOTA_COMP3</th>\n      <th>NU_NOTA_COMP4</th>\n      <th>NU_NOTA_COMP5</th>\n      <th>NU_NOTA_REDACAO</th>\n    </tr>\n  </thead>\n  <tbody>\n    <tr>\n      <th>count</th>\n      <td>9860.000000</td>\n      <td>9860.000000</td>\n      <td>9860.000000</td>\n      <td>9860.000000</td>\n      <td>9860.000000</td>\n      <td>9860.00000</td>\n      <td>9860.000000</td>\n      <td>3551.000000</td>\n      <td>9860.000000</td>\n      <td>3551.000000</td>\n      <td>...</td>\n      <td>9860.000000</td>\n      <td>9860.000000</td>\n      <td>9860.000000</td>\n      <td>9860.000000</td>\n      <td>9860.000000</td>\n      <td>9860.000000</td>\n      <td>9860.000000</td>\n      <td>9860.000000</td>\n      <td>9860.000000</td>\n      <td>9860.000000</td>\n    </tr>\n    <tr>\n      <th>mean</th>\n      <td>30.560953</td>\n      <td>20.525862</td>\n      <td>2.168966</td>\n      <td>1.045233</td>\n      <td>1.803753</td>\n      <td>1.73428</td>\n      <td>1.415213</td>\n      <td>1.129823</td>\n      <td>0.147870</td>\n      <td>2.294847</td>\n      <td>...</td>\n      <td>474.894310</td>\n      <td>531.788732</td>\n      <td>518.008611</td>\n      <td>483.634503</td>\n      <td>122.761866</td>\n      <td>114.690061</td>\n      <td>109.475659</td>\n      <td>115.931542</td>\n      <td>79.319980</td>\n      <td>542.179108</td>\n    </tr>\n    <tr>\n      <th>std</th>\n      <td>9.809404</td>\n      <td>6.279768</td>\n      <td>1.005135</td>\n      <td>0.255545</td>\n      <td>0.826902</td>\n      <td>2.88892</td>\n      <td>0.594129</td>\n      <td>0.486190</td>\n      <td>0.354989</td>\n      <td>0.739679</td>\n      <td>...</td>\n      <td>71.006222</td>\n      <td>72.953387</td>\n      <td>67.931015</td>\n      <td>99.783008</td>\n      <td>23.532664</td>\n      <td>29.198828</td>\n      <td>30.381720</td>\n      <td>28.770965</td>\n      <td>41.842657</td>\n      <td>131.856441</td>\n    </tr>\n    <tr>\n      <th>min</th>\n      <td>11.000000</td>\n      <td>13.000000</td>\n      <td>0.000000</td>\n      <td>0.000000</td>\n      <td>1.000000</td>\n      <td>0.00000</td>\n      <td>1.000000</td>\n      <td>1.000000</td>\n      <td>0.000000</td>\n      <td>1.000000</td>\n      <td>...</td>\n      <td>0.000000</td>\n      <td>0.000000</td>\n      <td>0.000000</td>\n      <td>0.000000</td>\n      <td>0.000000</td>\n      <td>40.000000</td>\n      <td>0.000000</td>\n      <td>0.000000</td>\n      <td>0.000000</td>\n      <td>40.000000</td>\n    </tr>\n    <tr>\n      <th>25%</th>\n      <td>23.000000</td>\n      <td>17.000000</td>\n      <td>1.000000</td>\n      <td>1.000000</td>\n      <td>1.000000</td>\n      <td>0.00000</td>\n      <td>1.000000</td>\n      <td>1.000000</td>\n      <td>0.000000</td>\n      <td>2.000000</td>\n      <td>...</td>\n      <td>420.900000</td>\n      <td>482.700000</td>\n      <td>470.975000</td>\n      <td>409.600000</td>\n      <td>120.000000</td>\n      <td>100.000000</td>\n      <td>80.000000</td>\n      <td>100.000000</td>\n      <td>40.000000</td>\n      <td>460.000000</td>\n    </tr>\n    <tr>\n      <th>50%</th>\n      <td>31.000000</td>\n      <td>18.000000</td>\n      <td>3.000000</td>\n      <td>1.000000</td>\n      <td>2.000000</td>\n      <td>0.00000</td>\n      <td>1.000000</td>\n      <td>1.000000</td>\n      <td>0.000000</td>\n      <td>2.000000</td>\n      <td>...</td>\n      <td>461.300000</td>\n      <td>533.700000</td>\n      <td>522.400000</td>\n      <td>462.100000</td>\n      <td>120.000000</td>\n      <td>120.000000</td>\n      <td>120.000000</td>\n      <td>120.000000</td>\n      <td>80.000000</td>\n      <td>540.000000</td>\n    </tr>\n    <tr>\n      <th>75%</th>\n      <td>35.000000</td>\n      <td>21.000000</td>\n      <td>3.000000</td>\n      <td>1.000000</td>\n      <td>2.000000</td>\n      <td>2.00000</td>\n      <td>2.000000</td>\n      <td>1.000000</td>\n      <td>0.000000</td>\n      <td>2.000000</td>\n      <td>...</td>\n      <td>516.400000</td>\n      <td>583.200000</td>\n      <td>565.800000</td>\n      <td>539.125000</td>\n      <td>140.000000</td>\n      <td>120.000000</td>\n      <td>120.000000</td>\n      <td>120.000000</td>\n      <td>120.000000</td>\n      <td>600.000000</td>\n    </tr>\n    <tr>\n      <th>max</th>\n      <td>53.000000</td>\n      <td>66.000000</td>\n      <td>5.000000</td>\n      <td>4.000000</td>\n      <td>4.000000</td>\n      <td>10.00000</td>\n      <td>4.000000</td>\n      <td>3.000000</td>\n      <td>1.000000</td>\n      <td>4.000000</td>\n      <td>...</td>\n      <td>806.400000</td>\n      <td>807.000000</td>\n      <td>763.600000</td>\n      <td>952.000000</td>\n      <td>200.000000</td>\n      <td>200.000000</td>\n      <td>200.000000</td>\n      <td>200.000000</td>\n      <td>200.000000</td>\n      <td>1000.000000</td>\n    </tr>\n  </tbody>\n</table>\n<p>8 rows × 25 columns</p>\n</div>"
     },
     "metadata": {},
     "execution_count": 7
    }
   ],
   "source": [
    "df_train.describe()"
   ]
  },
  {
   "cell_type": "code",
   "execution_count": 8,
   "metadata": {},
   "outputs": [],
   "source": [
    "#remover colunas com _muitos_ dados faltantes\n",
    "df_train.drop(['TP_ENSINO', 'TP_DEPENDENCIA_ADM_ESC'], axis=1,inplace=True)\n",
    "df_test.drop(['TP_ENSINO', 'TP_DEPENDENCIA_ADM_ESC'], axis=1,inplace=True)"
   ]
  },
  {
   "cell_type": "code",
   "execution_count": 9,
   "metadata": {},
   "outputs": [],
   "source": [
    "#transformar dados não numéricos em numéricos:\n",
    "df_train.TP_SEXO.replace(['F', 'M'], [1, 0], inplace=True)\n",
    "df_test.TP_SEXO.replace(['F', 'M'], [1, 0], inplace=True)\n",
    "df_train.Q001.replace(['A','B','C','D','E','F','G','H'], [0,1,2,3,4,5,6,7], inplace=True)\n",
    "df_test.Q001.replace(['A','B','C','D','E','F','G','H'], [0,1,2,3,4,5,6,7], inplace=True)\n",
    "df_train.Q002.replace(['A','B','C','D','E','F','G','H'], [0,1,2,3,4,5,6,7], inplace=True)\n",
    "df_test.Q002.replace(['A','B','C','D','E','F','G','H'], [0,1,2,3,4,5,6,7], inplace=True)\n",
    "df_train.Q006.replace(['A','B','C','D','E','F','G','H','I','J','K','L','M','N','O','P','Q'], [0,1,2,3,4,5,6,7,8,9,10,11,12,13,14,15,16], inplace=True)\n",
    "df_test.Q006.replace(['A','B','C','D','E','F','G','H','I','J','K','L','M','N','O','P','Q'], [0,1,2,3,4,5,6,7,8,9,10,11,12,13,14,15,16], inplace=True)\n",
    "df_test.Q024.replace(['A','B','C','D','E'], [0,1,2,3,4], inplace=True)\n",
    "df_train.Q024.replace(['A','B','C','D','E'], [0,1,2,3,4], inplace=True)\n",
    "df_test.Q025.replace(['A','B'], [0,1], inplace=True)\n",
    "df_train.Q025.replace(['A','B'], [0,1], inplace=True)\n",
    "df_test.Q026.replace(['A','B','C'], [0,1,2], inplace=True)\n",
    "df_train.Q026.replace(['A','B','C'], [0,1,2], inplace=True)\n",
    "#preencher coluna Q027\n",
    "df_train.Q027.fillna(\"N\",inplace=True)\n",
    "df_test.Q027.fillna(\"N\",inplace=True)\n",
    "#continuando conversão\n",
    "df_train.Q027.replace(['A','B','C','D','E','F','G','H','I','J','K','L','M','N'], [0,1,2,3,4,5,6,7,8,9,10,11,12,13], inplace=True)\n",
    "df_test.Q027.replace(['A','B','C','D','E','F','G','H','I','J','K','L','M','N'], [0,1,2,3,4,5,6,7,8,9,10,11,12,13], inplace=True)\n",
    "df_test.Q047.replace(['A','B','C','D','E'], [0,1,2,3,4], inplace=True)\n",
    "df_train.Q047.replace(['A','B','C','D','E'], [0,1,2,3,4], inplace=True)"
   ]
  },
  {
   "cell_type": "code",
   "execution_count": 10,
   "metadata": {},
   "outputs": [],
   "source": [
    "#juntar atendimento especializado por deficiência e excluir colunas\n",
    "df_train['DESABILIDADE'] = (\n",
    "df_train['IN_BAIXA_VISAO'])+(\n",
    "2*df_train['IN_CEGUEIRA'])+(\n",
    "3*df_train['IN_SURDEZ'])+(\n",
    "4*df_train['IN_DISLEXIA'])+(\n",
    "5*df_train['IN_DISCALCULIA'])\n",
    "\n",
    "df_test['DESABILIDADE'] = (\n",
    "df_test['IN_BAIXA_VISAO'])+(\n",
    "2*df_test['IN_CEGUEIRA'])+(\n",
    "3*df_test['IN_SURDEZ'])+(\n",
    "4*df_test['IN_DISLEXIA'])+(\n",
    "5*df_test['IN_DISCALCULIA'])\n",
    "\n",
    "df_train.drop(['IN_BAIXA_VISAO', 'IN_CEGUEIRA',  'IN_SURDEZ',  'IN_DISLEXIA',  'IN_DISCALCULIA'], axis=1,inplace=True)\n",
    "df_test.drop(['IN_BAIXA_VISAO', 'IN_CEGUEIRA',  'IN_SURDEZ',  'IN_DISLEXIA',  'IN_DISCALCULIA'], axis=1,inplace=True)"
   ]
  },
  {
   "cell_type": "code",
   "execution_count": 11,
   "metadata": {},
   "outputs": [
    {
     "output_type": "execute_result",
     "data": {
      "text/plain": "       CO_UF_RESIDENCIA     NU_IDADE      TP_SEXO  TP_COR_RACA  \\\ncount       9860.000000  9860.000000  9860.000000  9860.000000   \nmean          30.560953    20.525862     0.620385     2.168966   \nstd            9.809404     6.279768     0.485316     1.005135   \nmin           11.000000    13.000000     0.000000     0.000000   \n25%           23.000000    17.000000     0.000000     1.000000   \n50%           31.000000    18.000000     1.000000     3.000000   \n75%           35.000000    21.000000     1.000000     3.000000   \nmax           53.000000    66.000000     1.000000     5.000000   \n\n       TP_NACIONALIDADE  TP_ST_CONCLUSAO  TP_ANO_CONCLUIU    TP_ESCOLA  \\\ncount       9860.000000      9860.000000       9860.00000  9860.000000   \nmean           1.045233         1.803753          1.73428     1.415213   \nstd            0.255545         0.826902          2.88892     0.594129   \nmin            0.000000         1.000000          0.00000     1.000000   \n25%            1.000000         1.000000          0.00000     1.000000   \n50%            1.000000         2.000000          0.00000     1.000000   \n75%            1.000000         2.000000          2.00000     2.000000   \nmax            4.000000         4.000000         10.00000     4.000000   \n\n       IN_TREINEIRO   NU_NOTA_CN  ...  NU_NOTA_REDACAO         Q001  \\\ncount   9860.000000  9860.000000  ...      9860.000000  9860.000000   \nmean       0.147870   474.894310  ...       542.179108     3.077181   \nstd        0.354989    71.006222  ...       131.856441     1.991061   \nmin        0.000000     0.000000  ...        40.000000     0.000000   \n25%        0.000000   420.900000  ...       460.000000     1.000000   \n50%        0.000000   461.300000  ...       540.000000     3.000000   \n75%        0.000000   516.400000  ...       600.000000     4.000000   \nmax        1.000000   806.400000  ...      1000.000000     7.000000   \n\n              Q002         Q006         Q024         Q025         Q026  \\\ncount  9860.000000  9860.000000  9860.000000  9860.000000  9860.000000   \nmean      3.216126     3.136207     0.708824     0.585903     0.594625   \nstd       1.744580     2.927083     0.748737     0.492590     0.787538   \nmin       0.000000     0.000000     0.000000     0.000000     0.000000   \n25%       2.000000     1.000000     0.000000     0.000000     0.000000   \n50%       3.000000     2.000000     1.000000     1.000000     0.000000   \n75%       4.000000     4.000000     1.000000     1.000000     1.000000   \nmax       7.000000    16.000000     4.000000     1.000000     2.000000   \n\n              Q027         Q047  DESABILIDADE  \ncount  9860.000000  9860.000000   9860.000000  \nmean      9.371704     0.470284      0.002738  \nstd       4.754173     1.106844      0.088332  \nmin       0.000000     0.000000      0.000000  \n25%       5.000000     0.000000      0.000000  \n50%      13.000000     0.000000      0.000000  \n75%      13.000000     0.000000      0.000000  \nmax      13.000000     4.000000      5.000000  \n\n[8 rows x 28 columns]",
      "text/html": "<div>\n<style scoped>\n    .dataframe tbody tr th:only-of-type {\n        vertical-align: middle;\n    }\n\n    .dataframe tbody tr th {\n        vertical-align: top;\n    }\n\n    .dataframe thead th {\n        text-align: right;\n    }\n</style>\n<table border=\"1\" class=\"dataframe\">\n  <thead>\n    <tr style=\"text-align: right;\">\n      <th></th>\n      <th>CO_UF_RESIDENCIA</th>\n      <th>NU_IDADE</th>\n      <th>TP_SEXO</th>\n      <th>TP_COR_RACA</th>\n      <th>TP_NACIONALIDADE</th>\n      <th>TP_ST_CONCLUSAO</th>\n      <th>TP_ANO_CONCLUIU</th>\n      <th>TP_ESCOLA</th>\n      <th>IN_TREINEIRO</th>\n      <th>NU_NOTA_CN</th>\n      <th>...</th>\n      <th>NU_NOTA_REDACAO</th>\n      <th>Q001</th>\n      <th>Q002</th>\n      <th>Q006</th>\n      <th>Q024</th>\n      <th>Q025</th>\n      <th>Q026</th>\n      <th>Q027</th>\n      <th>Q047</th>\n      <th>DESABILIDADE</th>\n    </tr>\n  </thead>\n  <tbody>\n    <tr>\n      <th>count</th>\n      <td>9860.000000</td>\n      <td>9860.000000</td>\n      <td>9860.000000</td>\n      <td>9860.000000</td>\n      <td>9860.000000</td>\n      <td>9860.000000</td>\n      <td>9860.00000</td>\n      <td>9860.000000</td>\n      <td>9860.000000</td>\n      <td>9860.000000</td>\n      <td>...</td>\n      <td>9860.000000</td>\n      <td>9860.000000</td>\n      <td>9860.000000</td>\n      <td>9860.000000</td>\n      <td>9860.000000</td>\n      <td>9860.000000</td>\n      <td>9860.000000</td>\n      <td>9860.000000</td>\n      <td>9860.000000</td>\n      <td>9860.000000</td>\n    </tr>\n    <tr>\n      <th>mean</th>\n      <td>30.560953</td>\n      <td>20.525862</td>\n      <td>0.620385</td>\n      <td>2.168966</td>\n      <td>1.045233</td>\n      <td>1.803753</td>\n      <td>1.73428</td>\n      <td>1.415213</td>\n      <td>0.147870</td>\n      <td>474.894310</td>\n      <td>...</td>\n      <td>542.179108</td>\n      <td>3.077181</td>\n      <td>3.216126</td>\n      <td>3.136207</td>\n      <td>0.708824</td>\n      <td>0.585903</td>\n      <td>0.594625</td>\n      <td>9.371704</td>\n      <td>0.470284</td>\n      <td>0.002738</td>\n    </tr>\n    <tr>\n      <th>std</th>\n      <td>9.809404</td>\n      <td>6.279768</td>\n      <td>0.485316</td>\n      <td>1.005135</td>\n      <td>0.255545</td>\n      <td>0.826902</td>\n      <td>2.88892</td>\n      <td>0.594129</td>\n      <td>0.354989</td>\n      <td>71.006222</td>\n      <td>...</td>\n      <td>131.856441</td>\n      <td>1.991061</td>\n      <td>1.744580</td>\n      <td>2.927083</td>\n      <td>0.748737</td>\n      <td>0.492590</td>\n      <td>0.787538</td>\n      <td>4.754173</td>\n      <td>1.106844</td>\n      <td>0.088332</td>\n    </tr>\n    <tr>\n      <th>min</th>\n      <td>11.000000</td>\n      <td>13.000000</td>\n      <td>0.000000</td>\n      <td>0.000000</td>\n      <td>0.000000</td>\n      <td>1.000000</td>\n      <td>0.00000</td>\n      <td>1.000000</td>\n      <td>0.000000</td>\n      <td>0.000000</td>\n      <td>...</td>\n      <td>40.000000</td>\n      <td>0.000000</td>\n      <td>0.000000</td>\n      <td>0.000000</td>\n      <td>0.000000</td>\n      <td>0.000000</td>\n      <td>0.000000</td>\n      <td>0.000000</td>\n      <td>0.000000</td>\n      <td>0.000000</td>\n    </tr>\n    <tr>\n      <th>25%</th>\n      <td>23.000000</td>\n      <td>17.000000</td>\n      <td>0.000000</td>\n      <td>1.000000</td>\n      <td>1.000000</td>\n      <td>1.000000</td>\n      <td>0.00000</td>\n      <td>1.000000</td>\n      <td>0.000000</td>\n      <td>420.900000</td>\n      <td>...</td>\n      <td>460.000000</td>\n      <td>1.000000</td>\n      <td>2.000000</td>\n      <td>1.000000</td>\n      <td>0.000000</td>\n      <td>0.000000</td>\n      <td>0.000000</td>\n      <td>5.000000</td>\n      <td>0.000000</td>\n      <td>0.000000</td>\n    </tr>\n    <tr>\n      <th>50%</th>\n      <td>31.000000</td>\n      <td>18.000000</td>\n      <td>1.000000</td>\n      <td>3.000000</td>\n      <td>1.000000</td>\n      <td>2.000000</td>\n      <td>0.00000</td>\n      <td>1.000000</td>\n      <td>0.000000</td>\n      <td>461.300000</td>\n      <td>...</td>\n      <td>540.000000</td>\n      <td>3.000000</td>\n      <td>3.000000</td>\n      <td>2.000000</td>\n      <td>1.000000</td>\n      <td>1.000000</td>\n      <td>0.000000</td>\n      <td>13.000000</td>\n      <td>0.000000</td>\n      <td>0.000000</td>\n    </tr>\n    <tr>\n      <th>75%</th>\n      <td>35.000000</td>\n      <td>21.000000</td>\n      <td>1.000000</td>\n      <td>3.000000</td>\n      <td>1.000000</td>\n      <td>2.000000</td>\n      <td>2.00000</td>\n      <td>2.000000</td>\n      <td>0.000000</td>\n      <td>516.400000</td>\n      <td>...</td>\n      <td>600.000000</td>\n      <td>4.000000</td>\n      <td>4.000000</td>\n      <td>4.000000</td>\n      <td>1.000000</td>\n      <td>1.000000</td>\n      <td>1.000000</td>\n      <td>13.000000</td>\n      <td>0.000000</td>\n      <td>0.000000</td>\n    </tr>\n    <tr>\n      <th>max</th>\n      <td>53.000000</td>\n      <td>66.000000</td>\n      <td>1.000000</td>\n      <td>5.000000</td>\n      <td>4.000000</td>\n      <td>4.000000</td>\n      <td>10.00000</td>\n      <td>4.000000</td>\n      <td>1.000000</td>\n      <td>806.400000</td>\n      <td>...</td>\n      <td>1000.000000</td>\n      <td>7.000000</td>\n      <td>7.000000</td>\n      <td>16.000000</td>\n      <td>4.000000</td>\n      <td>1.000000</td>\n      <td>2.000000</td>\n      <td>13.000000</td>\n      <td>4.000000</td>\n      <td>5.000000</td>\n    </tr>\n  </tbody>\n</table>\n<p>8 rows × 28 columns</p>\n</div>"
     },
     "metadata": {},
     "execution_count": 11
    }
   ],
   "source": [
    "df_train.describe()"
   ]
  },
  {
   "cell_type": "code",
   "execution_count": 12,
   "metadata": {
    "scrolled": true
   },
   "outputs": [
    {
     "output_type": "execute_result",
     "data": {
      "text/plain": "CO_UF_RESIDENCIA    0.108458\nNU_IDADE           -0.058702\nTP_SEXO            -0.187182\nTP_COR_RACA        -0.159643\nTP_NACIONALIDADE   -0.036261\nTP_ST_CONCLUSAO    -0.084608\nTP_ANO_CONCLUIU     0.028189\nTP_ESCOLA           0.070282\nIN_TREINEIRO       -0.023908\nNU_NOTA_CN          0.584474\nNU_NOTA_CH          0.528859\nNU_NOTA_LC          0.490529\nNU_NOTA_MT          1.000000\nNU_NOTA_COMP1       0.336469\nNU_NOTA_COMP2       0.356981\nNU_NOTA_COMP3       0.369217\nNU_NOTA_COMP4       0.367265\nNU_NOTA_COMP5       0.343410\nNU_NOTA_REDACAO     0.413288\nQ001                0.168297\nQ002                0.211814\nQ006                0.411127\nQ024                0.324579\nQ025                0.248326\nQ026               -0.014523\nQ027               -0.007210\nQ047                0.352508\nDESABILIDADE       -0.001240\ndtype: float64"
     },
     "metadata": {},
     "execution_count": 12
    }
   ],
   "source": [
    "#correlação das colunas que restaram com as notas de matemática\n",
    "notas = df_train.NU_NOTA_MT\n",
    "df_train.corrwith(notas, axis=0)\n",
    ""
   ]
  },
  {
   "cell_type": "code",
   "execution_count": 13,
   "metadata": {},
   "outputs": [
    {
     "output_type": "stream",
     "name": "stdout",
     "text": "[0.4230068591153992, 0.4230068591153992, 0.4230068591153992]\n"
    }
   ],
   "source": [
    "#selecionar colunas com maior correlação com notas de matemática\n",
    "X = df_train[['NU_NOTA_CN', 'NU_NOTA_CH', 'NU_NOTA_LC', 'NU_NOTA_REDACAO', 'Q006', 'NU_NOTA_COMP3', 'NU_NOTA_COMP4']]\n",
    "Y = df_train.NU_NOTA_MT\n",
    "regressor = LinearRegression()\n",
    "scores = []\n",
    "#validação cruzada para ter noção do r^2, cabe tratamento de outlier para melhorar regressão linear\n",
    "kfold = KFold(n_splits=3, shuffle=True, random_state=42)\n",
    "for i, (train, test) in enumerate(kfold.split(X, Y)):\n",
    " regressor.fit(X,Y)\n",
    " score = regressor.score(X, Y)\n",
    " scores.append(score)\n",
    "print(scores)"
   ]
  },
  {
   "cell_type": "code",
   "execution_count": 14,
   "metadata": {},
   "outputs": [
    {
     "output_type": "stream",
     "name": "stdout",
     "text": "[ 0.48139974  0.2128507   0.17897479  0.02916423  5.50303614 -0.06252532\n  0.05146869] 16.925681454255653\n"
    }
   ],
   "source": [
    "#regressão linear com todos os dados do dataframe de treino, printando coeficientes da reta predita\n",
    "regressor.fit(X, Y)\n",
    "['NU_NOTA_CN', 'NU_NOTA_CH', 'NU_NOTA_LC', 'NU_NOTA_REDACAO', 'Q006', 'NU_NOTA_COMP3', 'NU_NOTA_COMP4']\n",
    "print(regressor.coef_, regressor.intercept_)"
   ]
  },
  {
   "cell_type": "code",
   "execution_count": 20,
   "metadata": {},
   "outputs": [],
   "source": [
    "#predição das notas de matemática com os dados do dataset de treino e coeficientes calculados anteriormente \n",
    "df_test['NU_NOTA_MT'] = (\n",
    "    16.925681) + (\n",
    "    0.48139974*df_test['NU_NOTA_CN']) + (\n",
    "    0.2128507*df_test['NU_NOTA_CH']) + (\n",
    "    0.17897479*df_test['NU_NOTA_LC'])+ (\n",
    "    0.02916423*df_test['NU_NOTA_REDACAO'])+ (\n",
    "    5.50303614*df_test['Q006'])+ (\n",
    "    -0.06252532*df_test['NU_NOTA_COMP3']) + (\n",
    "    0.05146869*df_test['NU_NOTA_COMP4'])"
   ]
  },
  {
   "cell_type": "code",
   "execution_count": 21,
   "metadata": {},
   "outputs": [
    {
     "output_type": "execute_result",
     "data": {
      "text/plain": "                                  NU_INSCRICAO  NU_NOTA_MT\n0     73ff9fcc02f0a99919906c942c2e1a1042cdcf98       435.8\n1     71a95f9f1b91a82c65ad94abbdf9f54e6066f968       434.4\n2     b38a03232f43b11c9d0788abaf060f7366053b6d       573.6\n3     70b682d9a3636be23f6120fa9d6b164eb3c6002d         NaN\n4     715494628a50142ce8cb17191cfe6d0f3cae0934       557.7\n...                                        ...         ...\n4571  dac0f22429c7f8e3931d0abaf5dfc8e5c772a48b       447.8\n4572  a75fa8770257e7c9368d059fe53d9ef431f4bdef       456.6\n4573  655fa6306720ff16e825903b5422a46608a77545       604.8\n4574  1f4bc3e3d56212d500625bfe8ac78ccff4362293       447.2\n4575  adf0d15b54317b6564ef56dad2b775bbb0ef50cc         NaN\n\n[4576 rows x 2 columns]",
      "text/html": "<div>\n<style scoped>\n    .dataframe tbody tr th:only-of-type {\n        vertical-align: middle;\n    }\n\n    .dataframe tbody tr th {\n        vertical-align: top;\n    }\n\n    .dataframe thead th {\n        text-align: right;\n    }\n</style>\n<table border=\"1\" class=\"dataframe\">\n  <thead>\n    <tr style=\"text-align: right;\">\n      <th></th>\n      <th>NU_INSCRICAO</th>\n      <th>NU_NOTA_MT</th>\n    </tr>\n  </thead>\n  <tbody>\n    <tr>\n      <th>0</th>\n      <td>73ff9fcc02f0a99919906c942c2e1a1042cdcf98</td>\n      <td>435.8</td>\n    </tr>\n    <tr>\n      <th>1</th>\n      <td>71a95f9f1b91a82c65ad94abbdf9f54e6066f968</td>\n      <td>434.4</td>\n    </tr>\n    <tr>\n      <th>2</th>\n      <td>b38a03232f43b11c9d0788abaf060f7366053b6d</td>\n      <td>573.6</td>\n    </tr>\n    <tr>\n      <th>3</th>\n      <td>70b682d9a3636be23f6120fa9d6b164eb3c6002d</td>\n      <td>NaN</td>\n    </tr>\n    <tr>\n      <th>4</th>\n      <td>715494628a50142ce8cb17191cfe6d0f3cae0934</td>\n      <td>557.7</td>\n    </tr>\n    <tr>\n      <th>...</th>\n      <td>...</td>\n      <td>...</td>\n    </tr>\n    <tr>\n      <th>4571</th>\n      <td>dac0f22429c7f8e3931d0abaf5dfc8e5c772a48b</td>\n      <td>447.8</td>\n    </tr>\n    <tr>\n      <th>4572</th>\n      <td>a75fa8770257e7c9368d059fe53d9ef431f4bdef</td>\n      <td>456.6</td>\n    </tr>\n    <tr>\n      <th>4573</th>\n      <td>655fa6306720ff16e825903b5422a46608a77545</td>\n      <td>604.8</td>\n    </tr>\n    <tr>\n      <th>4574</th>\n      <td>1f4bc3e3d56212d500625bfe8ac78ccff4362293</td>\n      <td>447.2</td>\n    </tr>\n    <tr>\n      <th>4575</th>\n      <td>adf0d15b54317b6564ef56dad2b775bbb0ef50cc</td>\n      <td>NaN</td>\n    </tr>\n  </tbody>\n</table>\n<p>4576 rows × 2 columns</p>\n</div>"
     },
     "metadata": {},
     "execution_count": 21
    }
   ],
   "source": [
    "#criar novo dataframe com as colunas de numero de inscrição e nota predita\n",
    "new_df = pd.DataFrame(data=df_test, columns=['NU_INSCRICAO','NU_NOTA_MT'])\n",
    "#arredondar para uma casa decimal\n",
    "new_df.round(1)"
   ]
  },
  {
   "cell_type": "code",
   "execution_count": 22,
   "metadata": {},
   "outputs": [],
   "source": [
    "#exportar csv do novo data frame\n",
    "new_df.to_csv('C:/Users/bodel/Documents/coding/codenation_data_science/answer.csv', index=False)"
   ]
  }
 ],
 "metadata": {
  "kernelspec": {
   "display_name": "Python 3",
   "language": "python",
   "name": "python3"
  },
  "language_info": {
   "codemirror_mode": {
    "name": "ipython",
    "version": 3
   },
   "file_extension": ".py",
   "mimetype": "text/x-python",
   "name": "python",
   "nbconvert_exporter": "python",
   "pygments_lexer": "ipython3",
   "version": "3.7.6-final"
  }
 },
 "nbformat": 4,
 "nbformat_minor": 4
}